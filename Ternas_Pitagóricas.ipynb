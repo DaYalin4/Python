{
  "nbformat": 4,
  "nbformat_minor": 0,
  "metadata": {
    "colab": {
      "provenance": [],
      "authorship_tag": "ABX9TyMBeMe1kj7irh+7p1xRw2im",
      "include_colab_link": true
    },
    "kernelspec": {
      "name": "python3",
      "display_name": "Python 3"
    },
    "language_info": {
      "name": "python"
    }
  },
  "cells": [
    {
      "cell_type": "markdown",
      "metadata": {
        "id": "view-in-github",
        "colab_type": "text"
      },
      "source": [
        "<a href=\"https://colab.research.google.com/github/DaYalin4/Python/blob/main/Ternas_Pitag%C3%B3ricas.ipynb\" target=\"_parent\"><img src=\"https://colab.research.google.com/assets/colab-badge.svg\" alt=\"Open In Colab\"/></a>"
      ]
    },
    {
      "cell_type": "markdown",
      "source": [
        "¿Cuales son las ternas pitagoricas menores que 1000?"
      ],
      "metadata": {
        "id": "fdG7rP-GNJKE"
      }
    },
    {
      "cell_type": "code",
      "execution_count": 25,
      "metadata": {
        "colab": {
          "base_uri": "https://localhost:8080/"
        },
        "id": "-wCoPJvONG5b",
        "outputId": "29b8dadf-189b-4946-e256-bcf95094e875"
      },
      "outputs": [
        {
          "output_type": "execute_result",
          "data": {
            "text/plain": [
              "[(3.0, 4.0, 5.0), (4.0, 3.0, 5.0), (6.0, 8.0, 10.0), (8.0, 6.0, 10.0)]"
            ]
          },
          "metadata": {},
          "execution_count": 25
        }
      ],
      "source": [
        "from math import*\n",
        "\n",
        "def terna(n):\n",
        "    x=[i**2 for i in range(1,n+1)]\n",
        "    y=[i**2 for i in range(1,n+1)]\n",
        "    z=[i**2 for i in range(1,n+1)]\n",
        "\n",
        "    ternasPitagoricas=[]\n",
        "    for i in x:\n",
        "        for j in y:\n",
        "            for k in z:\n",
        "                if i+j==k:\n",
        "                    ternasPitagoricas.append((sqrt(i),sqrt(j),sqrt(k)))\n",
        "    return ternasPitagoricas\n",
        "terna(100)\n",
        "\n",
        "\n"
      ]
    }
  ]
}