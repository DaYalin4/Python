{
  "nbformat": 4,
  "nbformat_minor": 0,
  "metadata": {
    "colab": {
      "provenance": [],
      "authorship_tag": "ABX9TyMnBeerMO4ZxPYpAsrERPRs",
      "include_colab_link": true
    },
    "kernelspec": {
      "name": "python3",
      "display_name": "Python 3"
    },
    "language_info": {
      "name": "python"
    }
  },
  "cells": [
    {
      "cell_type": "markdown",
      "metadata": {
        "id": "view-in-github",
        "colab_type": "text"
      },
      "source": [
        "<a href=\"https://colab.research.google.com/github/DaYalin4/Python/blob/main/Potencias_Perfectas.ipynb\" target=\"_parent\"><img src=\"https://colab.research.google.com/assets/colab-badge.svg\" alt=\"Open In Colab\"/></a>"
      ]
    },
    {
      "cell_type": "markdown",
      "source": [
        "Los números de Fibonacci son una secuencia matemática en la que cada término es la suma de los dos términos anteriores. Una potencia perfecta es un número entero que puede expresarse como el resultado de elevar otro número entero a una potencia mayor o igual a 2.\n",
        "\n",
        "\n",
        "\n",
        "En el contexto de los números de Fibonacci, la pregunta es si hay términos de la secuencia que son potencias perfectas y cómo se pueden encontrar. La búsqueda de potencias perfectas en los números de Fibonacci no solo es un desafío intelectual emocionante, sino que también contribuye a nuestra comprensión más profunda de las propiedades de esta famosa secuencia y su relación con otros conceptos matemáticos.\n",
        "\n",
        "A continuación se presentan códigos que dan respuesta a esta problematica. Además se presenta este articulo que habla del tema https://annals.math.princeton.edu/wp-content/uploads/annals-v163-n3-p05.pdf"
      ],
      "metadata": {
        "id": "pSsoClxgJ8S5"
      }
    },
    {
      "cell_type": "code",
      "source": [
        "from math import sqrt\n",
        "\n",
        "def es_potencia(numero, potencia):\n",
        "    return int(numero ** (1/potencia)) ** potencia == numero\n"
      ],
      "metadata": {
        "id": "s03PuQuaGUHq"
      },
      "execution_count": 12,
      "outputs": []
    },
    {
      "cell_type": "markdown",
      "source": [
        "¿Qué numeros de fibonacci menores que 10^20 son cuadrados?"
      ],
      "metadata": {
        "id": "L5tlTwv0CW2H"
      }
    },
    {
      "cell_type": "markdown",
      "source": [],
      "metadata": {
        "id": "f9Kkcci2LI8R"
      }
    },
    {
      "cell_type": "code",
      "source": [
        "from math import sqrt\n",
        "from sympy.core.power import integer_log\n",
        "\n",
        "def numeros_fibonacci_potencia(n, pot=3):\n",
        "    fibs = []\n",
        "    a, b = 0, 1\n",
        "    while a < n:\n",
        "        if es_potencia(a, pot):\n",
        "            fibs.append(a)\n",
        "        a, b = b, a + b\n",
        "    return fibs\n",
        "print(numeros_fibonacci_potencia(10**20, pot=2))"
      ],
      "metadata": {
        "colab": {
          "base_uri": "https://localhost:8080/"
        },
        "outputId": "96369c9a-aef2-4dbc-ebf6-1d709fd637d3",
        "id": "_EzLpV3bHfT6"
      },
      "execution_count": 9,
      "outputs": [
        {
          "output_type": "stream",
          "name": "stdout",
          "text": [
            "[0, 1, 1, 144]\n"
          ]
        }
      ]
    },
    {
      "cell_type": "markdown",
      "source": [
        "¿Qué numeros de fibonacci menores que 10^20 son cubos?"
      ],
      "metadata": {
        "id": "qAAQRXmqGjO8"
      }
    },
    {
      "cell_type": "code",
      "source": [
        "from math import sqrt\n",
        "from sympy.core.power import integer_log\n",
        "\n",
        "def numeros_fibonacci_potencia(n, pot=3):\n",
        "    fibs = []\n",
        "    a, b = 0, 1\n",
        "    while a < n:\n",
        "        if es_potencia(a, pot):\n",
        "            fibs.append(a)\n",
        "        a, b = b, a + b\n",
        "    return fibs\n",
        "print(numeros_fibonacci_potencia(10**20, pot=3))"
      ],
      "metadata": {
        "colab": {
          "base_uri": "https://localhost:8080/"
        },
        "id": "SKtkCp-yGsUa",
        "outputId": "c54dcca8-8d8a-4fc2-b612-cc8d6d44e5ca"
      },
      "execution_count": 10,
      "outputs": [
        {
          "output_type": "stream",
          "name": "stdout",
          "text": [
            "[0, 1, 1, 8]\n"
          ]
        }
      ]
    },
    {
      "cell_type": "markdown",
      "source": [
        "¿Qué numeros de fibonacci menores que 10^20 son cuartas potencias?"
      ],
      "metadata": {
        "id": "OpYvwiUsHnsv"
      }
    },
    {
      "cell_type": "code",
      "source": [
        "from math import sqrt\n",
        "from sympy.core.power import integer_log\n",
        "\n",
        "def numeros_fibonacci_potencia(n, pot=5):\n",
        "    fibs = []\n",
        "    a, b = 0, 1\n",
        "    while a < n:\n",
        "        if es_potencia(a, pot):\n",
        "            fibs.append(a)\n",
        "        a, b = b, a + b\n",
        "    return fibs\n",
        "print(numeros_fibonacci_potencia(10**20, pot=5))"
      ],
      "metadata": {
        "colab": {
          "base_uri": "https://localhost:8080/"
        },
        "id": "qcLO4ZZxHxoU",
        "outputId": "0d52e894-f4a5-4a7f-81d1-6d79b5323d0c"
      },
      "execution_count": 11,
      "outputs": [
        {
          "output_type": "stream",
          "name": "stdout",
          "text": [
            "[0, 1, 1]\n"
          ]
        }
      ]
    }
  ]
}